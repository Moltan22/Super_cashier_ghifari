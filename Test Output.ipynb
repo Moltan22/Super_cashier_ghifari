{
 "cells": [
  {
   "cell_type": "code",
   "execution_count": 1,
   "id": "e3fbd11e-0980-44af-baa0-af3feceaa412",
   "metadata": {},
   "outputs": [
    {
     "name": "stdout",
     "output_type": "stream",
     "text": [
      "Pemesanan sudah benar\n",
      "Total Price: 285000.0\n",
      "| No |  Nama Item  |  Jumlah Item  |  Harga per Item  |  Total Harga  |\n",
      "|----|-------------|---------------|------------------|---------------|\n",
      "|  1  |  Ayam Goreng  |      2     |      20000   |    40000    |\n",
      "|  2  |  Pasta Gigi  |      3     |      15000   |    45000    |\n",
      "|  3  |  Mainan Mobil  |      1     |      200000   |    200000    |\n",
      "|  4  |  Mi Instan  |      5     |      3000   |    15000    |\n"
     ]
    }
   ],
   "source": [
    "!python main.py"
   ]
  }
 ],
 "metadata": {
  "kernelspec": {
   "display_name": "Python 3 (ipykernel)",
   "language": "python",
   "name": "python3"
  },
  "language_info": {
   "codemirror_mode": {
    "name": "ipython",
    "version": 3
   },
   "file_extension": ".py",
   "mimetype": "text/x-python",
   "name": "python",
   "nbconvert_exporter": "python",
   "pygments_lexer": "ipython3",
   "version": "3.11.5"
  }
 },
 "nbformat": 4,
 "nbformat_minor": 5
}
